{
 "cells": [
  {
   "cell_type": "markdown",
   "id": "84df19dd-e9ae-403a-8d4c-118aac29486e",
   "metadata": {},
   "source": [
    "# Data analysis\n",
    "Many LLMs are excellent data scientists. Just a reminder: it is important to specify clearly what code should do."
   ]
  },
  {
   "cell_type": "code",
   "execution_count": 1,
   "id": "0db11be8-4f1d-4581-aef3-3f05491d16e7",
   "metadata": {},
   "outputs": [
    {
     "data": {
      "text/markdown": [
       "To iterate over all files in a folder, open each `.tif` image, and display it, you can use the following Python code. This code uses the `os` module to navigate the directory and the `PIL` (Pillow) library to open and display images. Make sure you have the Pillow library installed (`pip install Pillow`) before running this code:\n",
       "\n",
       "```python\n",
       "import os\n",
       "from PIL import Image\n",
       "\n",
       "def show_tif_images_in_folder(folder_path):\n",
       "    # List all files in the given folder\n",
       "    for filename in os.listdir(folder_path):\n",
       "        # Get the full file path\n",
       "        file_path = os.path.join(folder_path, filename)\n",
       "        \n",
       "        # Check if the current file is a .tif file\n",
       "        if filename.lower().endswith('.tif'):\n",
       "            try:\n",
       "                # Open and display the .tif file\n",
       "                with Image.open(file_path) as img:\n",
       "                    img.show()\n",
       "            except IOError as e:\n",
       "                print(f\"Cannot open {file_path}: {e}\")\n",
       "\n",
       "# Replace 'your_folder_path_here' with the path to your folder containing .tif images\n",
       "folder_path = 'your_folder_path_here'\n",
       "show_tif_images_in_folder(folder_path)\n",
       "```\n",
       "\n",
       "### Notes:\n",
       "1. **Folder Path**: Replace `'your_folder_path_here'` with the actual path to the folder containing your `.tif` images.\n",
       "2. **Error Handling**: The code includes error handling to skip files that cannot be opened as images. This prevents the program from crashing if it encounters a corrupted file or a non-readable .tif.\n",
       "3. **Case Insensitivity**: The check for the `.tif` extension is case insensitive (`.tif` vs. `.TIF`).\n",
       "\n",
       "Make sure the folder path is correctly set and validated according to your filesystem."
      ],
      "text/plain": [
       "<IPython.core.display.Markdown object>"
      ]
     },
     "metadata": {},
     "output_type": "display_data"
    }
   ],
   "source": [
    "Give my Python code for iterating over all files in a folder.\n",
    "If the file is a .tif image, open it and show it."
   ]
  },
  {
   "cell_type": "markdown",
   "id": "a58d7955-7293-4206-88e0-92c62a871472",
   "metadata": {},
   "source": [
    "## Chat-interaction for modifying code\n",
    "LLM platforms commonly come as chat-bots, and thus, we can refer back to formerly generated code and ask to modify the code according to our needs."
   ]
  },
  {
   "cell_type": "code",
   "execution_count": 2,
   "id": "1f3a0ca4-b6c7-40b6-9b6e-da1fb4f84cbc",
   "metadata": {},
   "outputs": [
    {
     "data": {
      "text/markdown": [
       "Certainly! Below is a Python script that iterates over all files in a specified folder, checks if each file is a `.tif` image, and opens it for display. This script does not encapsulate the logic within a function:\n",
       "\n",
       "```python\n",
       "import os\n",
       "from PIL import Image\n",
       "import matplotlib.pyplot as plt\n",
       "\n",
       "# Specify the directory containing the files\n",
       "directory = '/path/to/your/directory'\n",
       "\n",
       "# Iterate over all files in the specified directory\n",
       "for filename in os.listdir(directory):\n",
       "    # Construct the full file path\n",
       "    file_path = os.path.join(directory, filename)\n",
       "    \n",
       "    # Check if the file is a .tif image\n",
       "    if os.path.isfile(file_path) and filename.lower().endswith('.tif'):\n",
       "        # Open the .tif image\n",
       "        image = Image.open(file_path)\n",
       "        \n",
       "        # Display the image using matplotlib\n",
       "        plt.imshow(image)\n",
       "        plt.title(f\"Displaying: {filename}\")\n",
       "        plt.axis('off')  # Hide axes\n",
       "        plt.show()\n",
       "\n",
       "        # Alternatively, you can display using PIL's show method:\n",
       "        # image.show()\n",
       "```\n",
       "\n",
       "### Instructions:\n",
       "\n",
       "- Replace `'/path/to/your/directory'` with the actual path of the folder you want to iterate over.\n",
       "- Make sure that both the `PIL` (Pillow) library and `matplotlib` are installed in your Python environment. You can install them using `pip install Pillow matplotlib` if needed.\n",
       "- The `plt.show()` line will open each `.tif` image one at a time. If you have a large number of images to display, you may want to include a mechanism to close the plot window or process in batches.\n",
       "\n",
       "This code goes through each file in the specified directory, checks if the file extension is `.tif` (case-insensitive), and displays the image accordingly."
      ],
      "text/plain": [
       "<IPython.core.display.Markdown object>"
      ]
     },
     "metadata": {},
     "output_type": "display_data"
    }
   ],
   "source": [
    "Could you also write code that does not use a function?"
   ]
  },
  {
   "cell_type": "markdown",
   "id": "f517c9e6-96ce-4976-86e1-6774e1266e6c",
   "metadata": {},
   "source": [
    "## Asking to explain code\n",
    "LLMs open the door for non-programmers to write code. It is extremely important to make sure that code does what it is supposed to do. Hence, if we find code which we don't understand, we can ask the LLM to explain it to us."
   ]
  },
  {
   "cell_type": "code",
   "execution_count": 3,
   "id": "33ec9391-8fef-429c-9562-2582d55fcb2c",
   "metadata": {},
   "outputs": [
    {
     "data": {
      "text/markdown": [
       "In the initial code example, the `try: ... except: ...` block is used to handle any potential errors that may occur when attempting to open and display an image file. Here's a more detailed explanation:\n",
       "\n",
       "- **`try:` block**: This block contains the code that might raise an exception. In the context of your task, this involves opening an image file using the `Image.open()` function and attempting to display it with the `show()` method. If everything goes well, the code in this block executes without any issues.\n",
       "\n",
       "- **`except:` block**: If an exception occurs in the `try:` block, control is immediately transferred to the `except:` block. The `except:` block defines what should be done if an error occurs. In the context of opening and showing an image, common exceptions might include file corruption, issues with file permissions, or the file not being a valid image. By catching these exceptions, your code can handle the error gracefully (e.g., by printing an error message) instead of crashing.\n",
       "\n",
       "Using a `try: ... except: ...` block is a way to make the code more robust and user-friendly, ensuring that errors are handled appropriately without stopping the entire script execution."
      ],
      "text/plain": [
       "<IPython.core.display.Markdown object>"
      ]
     },
     "metadata": {},
     "output_type": "display_data"
    }
   ],
   "source": [
    "What does the try: ... except: ... do in the first code example?"
   ]
  },
  {
   "cell_type": "markdown",
   "id": "a77fc349-e5b5-4fbd-a98a-2ec1612dd452",
   "metadata": {},
   "source": [
    "## Exercise\n",
    "Ask an LLM / Chatbot to generate Python code for:\n",
    "* loading a .csv file of your choice ([or this one]()) as DataFrame\n",
    "* compute descriptive statistics of columns, e.g. mean and standard deviation.\n",
    "* plot two numeric columns against each other using seaborn.\n",
    "\n",
    "Optional:\n",
    "* Ask the LLM what a DataFrame is.\n",
    "* Ask the LLM what seaborn is.\n",
    "* Ask the LLM modify the plot, e.g. change the colours of data points."
   ]
  },
  {
   "cell_type": "code",
   "execution_count": null,
   "id": "d3492fb1-98d8-4596-853b-6522d28ce3ac",
   "metadata": {},
   "outputs": [],
   "source": []
  }
 ],
 "metadata": {
  "kernelspec": {
   "display_name": "LLM Kernel (gpt-4o-2024-08-06)",
   "language": "prompt",
   "name": "llm-kernel"
  },
  "language_info": {
   "codemirror_mode": {
    "name": "prompt"
   },
   "mimetype": "text/x-prompt",
   "name": "prompt"
  }
 },
 "nbformat": 4,
 "nbformat_minor": 5
}
