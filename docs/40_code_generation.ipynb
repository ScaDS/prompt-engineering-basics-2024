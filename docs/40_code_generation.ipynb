{
 "cells": [
  {
   "cell_type": "markdown",
   "id": "2ea8d0f5-484f-47bc-9b44-f752c7423c57",
   "metadata": {},
   "source": [
    "# Code generation\n",
    "LLMs are excellent code writers because writing code is a translation task, e.g. from English to Python."
   ]
  },
  {
   "cell_type": "code",
   "execution_count": 1,
   "id": "0bf9d182-d4f1-428e-a4af-a5dca6e509f5",
   "metadata": {},
   "outputs": [
    {
     "data": {
      "text/markdown": [
       "Certainly! You can print out the numbers between 0 and 10 using a simple `for` loop in Python. Here's the code to do that:\n",
       "\n",
       "```python\n",
       "for number in range(11):\n",
       "    print(number)\n",
       "```\n",
       "\n",
       "This code uses the `range` function to generate numbers from 0 to 10, and then iterates over each number to print it out."
      ],
      "text/plain": [
       "<IPython.core.display.Markdown object>"
      ]
     },
     "metadata": {},
     "output_type": "display_data"
    }
   ],
   "source": [
    "Write Python code for printing out the numbers between 0 and 10."
   ]
  },
  {
   "cell_type": "code",
   "execution_count": 2,
   "id": "3905aca5-3a90-43de-890e-896f45a5414d",
   "metadata": {},
   "outputs": [
    {
     "data": {
      "text/markdown": [
       "Here is a simple Python function that returns the string \"Hello World\":\n",
       "\n",
       "```python\n",
       "def get_hello_world():\n",
       "    return \"Hello World\"\n",
       "\n",
       "# Example usage\n",
       "message = get_hello_world()\n",
       "print(message)\n",
       "```\n",
       "\n",
       "This code defines a function named `get_hello_world` that, when called, returns the string \"Hello World\". The example usage demonstrates how to call the function and print the result."
      ],
      "text/plain": [
       "<IPython.core.display.Markdown object>"
      ]
     },
     "metadata": {},
     "output_type": "display_data"
    }
   ],
   "source": [
    "Write Python code for a function that returns \"Hello World\"."
   ]
  },
  {
   "cell_type": "markdown",
   "id": "0cff3ab7-4d76-4201-bc80-edc055f51f88",
   "metadata": {},
   "source": [
    "## Explaining code\n",
    "This also works the other way around, e.g. if you ask the LLM what a specific code section does."
   ]
  },
  {
   "cell_type": "code",
   "execution_count": 3,
   "id": "39969a5e-6ba4-4165-a277-b5f2d2ad3088",
   "metadata": {},
   "outputs": [
    {
     "data": {
      "text/markdown": [
       "This Python code is manipulating a pandas DataFrame named `df`. Here’s a breakdown of what each line does:\n",
       "\n",
       "1. `df['aspect_ratio'] = df['minor_axis_length'] / df['major_axis_length']`: \n",
       "   - This line creates a new column in the DataFrame called `aspect_ratio`. \n",
       "   - It calculates the aspect ratio by dividing the values in the `'minor_axis_length'` column by the corresponding values in the `'major_axis_length'` column.\n",
       "\n",
       "2. `filtered_df = df[df['aspect_ratio'] > 2]`: \n",
       "   - This line filters the DataFrame to create a new DataFrame called `filtered_df`.\n",
       "   - It includes only the rows where the `aspect_ratio` is greater than 2.\n",
       "   - The resulting `filtered_df` will therefore contain only those rows from the original DataFrame (`df`) that meet this condition. \n",
       "\n",
       "In summary, this code calculates an aspect ratio for each row and then filters the DataFrame to include only those rows where the aspect ratio is greater than 2."
      ],
      "text/plain": [
       "<IPython.core.display.Markdown object>"
      ]
     },
     "metadata": {},
     "output_type": "display_data"
    }
   ],
   "source": [
    "I have this Python code, what is it doing?\n",
    "\n",
    "df['aspect_ratio'] = df['minor_axis_length'] / df['major_axis_length']\n",
    "filtered_df = df[df['aspect_ratio'] > 2]"
   ]
  },
  {
   "cell_type": "markdown",
   "id": "a36c3a5f-eb0a-4e66-aead-f18f0e1d45a8",
   "metadata": {},
   "source": [
    "## Code documentation\n",
    "Assume a data scientist was in a rush and wrote code quickly. Unfortunately, they wrote code without any comments and that's why it is hard to know what the code does. LLMs can help with adding comments to code."
   ]
  },
  {
   "cell_type": "code",
   "execution_count": 4,
   "id": "2a9e7e00-8f4c-4323-a80b-ede608d3341b",
   "metadata": {},
   "outputs": [
    {
     "data": {
      "text/markdown": [
       "Certainly! Here is the Python code with comments added to explain each step:\n",
       "\n",
       "```python\n",
       "# Read the image from the specified file\n",
       "image = imread(\"data/blobs.tif\")\n",
       "\n",
       "# Apply a Gaussian blur to the image with a sigma of 1 to smooth it\n",
       "blurred_image = filters.gaussian(image, sigma=1)\n",
       "\n",
       "# Calculate the Otsu's threshold value for the blurred image\n",
       "threshold = filters.threshold_otsu(blurred_image)\n",
       "\n",
       "# Create a binary image where pixels with values greater than or equal to the threshold are True\n",
       "thresholded_image = blurred_image >= threshold\n",
       "\n",
       "# Label the connected components in the binary image\n",
       "label_image = measure.label(thresholded_image)\n",
       "\n",
       "# Display the labeled image with the labels shown\n",
       "imshow(label_image, labels=True)\n",
       "```\n",
       "\n",
       "This code processes an image by blurring it, applying a threshold to create a binary image, labeling the connected components, and displaying the labeled image."
      ],
      "text/plain": [
       "<IPython.core.display.Markdown object>"
      ]
     },
     "metadata": {},
     "output_type": "display_data"
    }
   ],
   "source": [
    "I have this Python code. Can you add comments to it?\n",
    "\n",
    "image = imread(\"data/blobs.tif\")\n",
    "blurred_image = filters.gaussian(image, sigma=1)\n",
    "threshold = filters.threshold_otsu(blurred_image)\n",
    "thresholded_image = blurred_image >= threshold\n",
    "label_image = measure.label(thresholded_image)\n",
    "imshow(label_image, labels=True)"
   ]
  },
  {
   "cell_type": "markdown",
   "id": "9d1ae14d-8738-4c23-bd5d-09b38e554b98",
   "metadata": {},
   "source": [
    "## Fixing errors in code\n",
    "You can also ask LLMs to assist in fixing code, e.g. if the code above is executed, there is an error message. If we provide the error message to the LLM, it can assist us in solving the problem."
   ]
  },
  {
   "cell_type": "code",
   "execution_count": 5,
   "id": "4507f71e-b491-4dd5-b3e9-9981c643929f",
   "metadata": {},
   "outputs": [
    {
     "data": {
      "text/markdown": [
       "The error message you're encountering indicates that the `imread` function is not recognized. This usually means that the necessary library for image reading hasn't been imported or is not installed. The function `imread` is commonly used for reading images and is part of libraries such as OpenCV or `skimage`.\n",
       "\n",
       "Here’s how you can modify the code to include the appropriate imports with the `skimage` library:\n",
       "\n",
       "```python\n",
       "from skimage.io import imread, imshow\n",
       "from skimage import filters, measure\n",
       "\n",
       "# Read the image file\n",
       "image = imread(\"data/blobs.tif\")\n",
       "\n",
       "# Apply Gaussian blur to the image with a given sigma value\n",
       "blurred_image = filters.gaussian(image, sigma=1)\n",
       "\n",
       "# Compute the Otsu threshold on the blurred image\n",
       "threshold = filters.threshold_otsu(blurred_image)\n",
       "\n",
       "# Create a boolean image where pixels are marked as true if they are above the threshold\n",
       "thresholded_image = blurred_image >= threshold\n",
       "\n",
       "# Label connected regions in the thresholded image\n",
       "label_image = measure.label(thresholded_image)\n",
       "\n",
       "# Display the labeled image\n",
       "imshow(label_image, labels=True)\n",
       "```\n",
       "\n",
       "Please ensure you have the `scikit-image` library installed. You can install it via pip if necessary:\n",
       "\n",
       "```bash\n",
       "pip install scikit-image\n",
       "```\n",
       "\n",
       "After running the above code with the necessary imports and ensuring all libraries are installed, it should work without the described error."
      ],
      "text/plain": [
       "<IPython.core.display.Markdown object>"
      ]
     },
     "metadata": {},
     "output_type": "display_data"
    }
   ],
   "source": [
    "When I execute the code above in Python, there is an error message. Help me making the code work!\n",
    "\n",
    "---------------------------------------------------------------------------\n",
    "NameError                                 Traceback (most recent call last)\n",
    "Cell In[1], line 1\n",
    "----> 1 image = imread(\"data/blobs.tif\")\n",
    "      2 blurred_image = filters.gaussian(image, sigma=1)\n",
    "      3 threshold = filters.threshold_otsu(blurred_image)\n",
    "\n",
    "NameError: name 'imread' is not defined"
   ]
  },
  {
   "cell_type": "markdown",
   "id": "e3dc5cf7-d0e0-46a5-a64f-f5f84f79e42f",
   "metadata": {},
   "source": [
    "## Exercise\n",
    "Run the code above and ask an LLM to assist you in making it work. \n",
    "\n",
    "Hint: In case of trouble, the code was taken from [here](https://haesleinhuepf.github.io/BioImageAnalysisNotebooks/22_feature_extraction/quantitative_measurements.html)."
   ]
  },
  {
   "cell_type": "code",
   "execution_count": null,
   "id": "5d9319ad-f0fe-4a90-bea9-743fc75bfc0a",
   "metadata": {},
   "outputs": [],
   "source": []
  }
 ],
 "metadata": {
  "kernelspec": {
   "display_name": "LLM Kernel (gpt-4o-2024-08-06)",
   "language": "prompt",
   "name": "llm-kernel"
  },
  "language_info": {
   "codemirror_mode": {
    "name": "prompt"
   },
   "mimetype": "text/x-prompt",
   "name": "prompt"
  }
 },
 "nbformat": 4,
 "nbformat_minor": 5
}
