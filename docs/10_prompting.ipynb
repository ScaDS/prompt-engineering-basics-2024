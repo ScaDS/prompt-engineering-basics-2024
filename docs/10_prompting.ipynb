{
 "cells": [
  {
   "cell_type": "markdown",
   "id": "9ee67a8d-c234-4427-91c9-a0dc7033657e",
   "metadata": {},
   "source": [
    "# Prompting language models\n",
    "In this notebook we will send basic prompts to ChatGPT and receive answers."
   ]
  },
  {
   "cell_type": "code",
   "execution_count": 1,
   "id": "43c6f1dc-fb3c-463f-a144-90b017031600",
   "metadata": {},
   "outputs": [
    {
     "data": {
      "text/markdown": [
       "Central Europe is a region that is not precisely defined and can vary based on different cultural, historical, and geopolitical perspectives. However, it traditionally includes the following countries:\n",
       "\n",
       "1. Germany\n",
       "2. Poland\n",
       "3. Czech Republic\n",
       "4. Austria\n",
       "5. Switzerland\n",
       "6. Hungary\n",
       "7. Slovakia\n",
       "8. Slovenia\n",
       "\n",
       "Sometimes, broader definitions might also include parts of:\n",
       "\n",
       "- Croatia\n",
       "- Romania\n",
       "- Serbia\n",
       "\n",
       "These countries are often considered part of Central Europe due to historical ties, cultural similarities, and geographic proximity. Nonetheless, regional definitions can vary, and some countries can be considered part of more than one European region."
      ],
      "text/plain": [
       "<IPython.core.display.Markdown object>"
      ]
     },
     "metadata": {},
     "output_type": "display_data"
    }
   ],
   "source": [
    "Which countries are in central Europe?"
   ]
  },
  {
   "cell_type": "markdown",
   "id": "a256a055-c5ef-4846-a370-006c8a80a119",
   "metadata": {},
   "source": [
    "## A comment on reproducibility\n",
    "Note that prompt responses may not be very reproducible. You can execute the same prompt twice and receive different responses."
   ]
  },
  {
   "cell_type": "code",
   "execution_count": 3,
   "id": "8269c2a0-0a68-452d-9c20-1cabdaf66e1d",
   "metadata": {},
   "outputs": [
    {
     "data": {
      "text/markdown": [
       "Central Europe is a region that does not have a universally agreed-upon definition, but it traditionally includes several countries based on cultural, historical, and geographical criteria. Generally, the following countries are considered part of Central Europe:\n",
       "\n",
       "1. Germany\n",
       "2. Poland\n",
       "3. Czech Republic\n",
       "4. Austria\n",
       "5. Switzerland\n",
       "6. Hungary\n",
       "7. Slovakia\n",
       "8. Slovenia\n",
       "9. Liechtenstein\n",
       "\n",
       "Some definitions might also include parts of other countries such as northern Italy, eastern France, and western Ukraine, depending on the context. The exact composition can vary based on political, cultural, and economic considerations."
      ],
      "text/plain": [
       "<IPython.core.display.Markdown object>"
      ]
     },
     "metadata": {},
     "output_type": "display_data"
    }
   ],
   "source": [
    "Which countries are in central Europe?"
   ]
  },
  {
   "cell_type": "markdown",
   "id": "e519d67e-38b0-48b6-a994-5f30dfd3bfe7",
   "metadata": {},
   "source": [
    "## Precise results\n",
    "As you can see, the language model has to speculate a bit because we haven't defined precisely, what region we refer to. \n",
    "The more precise our prompt is, the more precise (and reproducible) will results be."
   ]
  },
  {
   "cell_type": "code",
   "execution_count": 5,
   "id": "6611e5ac-1a35-4e7b-b28b-d66a0f8df39a",
   "metadata": {},
   "outputs": [
    {
     "data": {
      "text/markdown": [
       "The Schengen Area, as of my last update, consisted of 27 European countries that had abolished passport control and other forms of border control at their mutual borders. While I cannot provide details specifically for 2024, the list has remained relatively stable over recent years. Here are the countries that were part of the Schengen Area:\n",
       "\n",
       "1. Austria\n",
       "2. Belgium\n",
       "3. Czech Republic\n",
       "4. Denmark\n",
       "5. Estonia\n",
       "6. Finland\n",
       "7. France\n",
       "8. Germany\n",
       "9. Greece\n",
       "10. Hungary\n",
       "11. Iceland\n",
       "12. Italy\n",
       "13. Latvia\n",
       "14. Liechtenstein\n",
       "15. Lithuania\n",
       "16. Luxembourg\n",
       "17. Malta\n",
       "18. Netherlands\n",
       "19. Norway\n",
       "20. Poland\n",
       "21. Portugal\n",
       "22. Slovakia\n",
       "23. Slovenia\n",
       "24. Spain\n",
       "25. Sweden\n",
       "26. Switzerland\n",
       "\n",
       "Bulgaria, Croatia, Cyprus, and Romania are members of the European Union but were not part of the Schengen Area as of my last update. Please check the most current information to confirm if any changes have occurred since then."
      ],
      "text/plain": [
       "<IPython.core.display.Markdown object>"
      ]
     },
     "metadata": {},
     "output_type": "display_data"
    }
   ],
   "source": [
    "Which countries are part of the Schengen region in 2024?"
   ]
  },
  {
   "cell_type": "code",
   "execution_count": 6,
   "id": "e9a64a5e-0a91-4f1f-b82e-8fc4afd70592",
   "metadata": {},
   "outputs": [
    {
     "data": {
      "text/markdown": [
       "As of my last update, the Schengen Area comprises 27 European countries that have abolished passport and other types of border control at their mutual borders. The countries that are typically part of the Schengen Area include:\n",
       "\n",
       "1. Austria\n",
       "2. Belgium\n",
       "3. Czech Republic\n",
       "4. Denmark\n",
       "5. Estonia\n",
       "6. Finland\n",
       "7. France\n",
       "8. Germany\n",
       "9. Greece\n",
       "10. Hungary\n",
       "11. Iceland\n",
       "12. Italy\n",
       "13. Latvia\n",
       "14. Liechtenstein\n",
       "15. Lithuania\n",
       "16. Luxembourg\n",
       "17. Malta\n",
       "18. Netherlands\n",
       "19. Norway\n",
       "20. Poland\n",
       "21. Portugal\n",
       "22. Slovakia\n",
       "23. Slovenia\n",
       "24. Spain\n",
       "25. Sweden\n",
       "26. Switzerland\n",
       "\n",
       "Additionally, Bulgaria, Croatia, Cyprus, and Romania are EU member states that are legally obliged to join the Schengen Area once they meet the necessary conditions, and Croatia joined the Schengen Area in 2023. \n",
       "\n",
       "Please verify with a current source to check for any changes in status or membership."
      ],
      "text/plain": [
       "<IPython.core.display.Markdown object>"
      ]
     },
     "metadata": {},
     "output_type": "display_data"
    }
   ],
   "source": [
    "Which countries are part of the Schengen region in 2024?"
   ]
  },
  {
   "cell_type": "markdown",
   "id": "57478d74-542f-41ee-9e12-87e3c7d7b7f1",
   "metadata": {},
   "source": [
    "## Exercise\n",
    "Continue asking questions about well-known facts such as continents and countries. \n",
    "Afterwards, ask philosophical questions such as for the meaning of life."
   ]
  },
  {
   "cell_type": "code",
   "execution_count": null,
   "id": "5decbd54-e27a-4e91-b88c-602290795b78",
   "metadata": {},
   "outputs": [],
   "source": []
  }
 ],
 "metadata": {
  "kernelspec": {
   "display_name": "LLM Kernel (gpt-4o-2024-08-06)",
   "language": "prompt",
   "name": "llm-kernel"
  },
  "language_info": {
   "codemirror_mode": {
    "name": "prompt"
   },
   "mimetype": "text/x-prompt",
   "name": "prompt"
  }
 },
 "nbformat": 4,
 "nbformat_minor": 5
}
