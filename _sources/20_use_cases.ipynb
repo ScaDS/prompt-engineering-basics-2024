{
 "cells": [
  {
   "cell_type": "markdown",
   "id": "0532bcef-9980-4ab7-b8d0-c331a4949cbf",
   "metadata": {},
   "source": [
    "# Use cases\n",
    "In this notebook we collect a few use-cases and not so useful use-cases for large language models."
   ]
  },
  {
   "cell_type": "code",
   "execution_count": 1,
   "id": "6d86a1a5-a4c8-4d8d-b762-884882eb819a",
   "metadata": {},
   "outputs": [
    {
     "data": {
      "text/markdown": [
       "Was ist das Lieblingsweihnachtslied aller Eltern? Stille Nacht!"
      ],
      "text/plain": [
       "<IPython.core.display.Markdown object>"
      ]
     },
     "metadata": {},
     "output_type": "display_data"
    }
   ],
   "source": [
    "Translate the following joke to German:\n",
    "\n",
    "What is every parent's favorite Christmas song? Silent Night!"
   ]
  },
  {
   "cell_type": "markdown",
   "id": "80a222b8-aac1-4d65-a678-cb0269b5c621",
   "metadata": {},
   "source": [
    "## Information retrieval\n",
    "Large Language Models are well-suited for extracting information from text. Therefore, you need to:\n",
    "1. formulate your question\n",
    "2. provide data\n",
    "3. define the output format"
   ]
  },
  {
   "cell_type": "code",
   "execution_count": 2,
   "id": "f57c6027-c1f5-46fb-986a-abd5e083f3f0",
   "metadata": {},
   "outputs": [
    {
     "data": {
      "text/markdown": [
       "* Number of students asked: 100  \n",
       "* Cloud storage size: 250 GB"
      ],
      "text/plain": [
       "<IPython.core.display.Markdown object>"
      ]
     },
     "metadata": {},
     "output_type": "display_data"
    }
   ],
   "source": [
    "Given a story, please restructure the contained data.\n",
    "\n",
    "Story:\n",
    "The compute center of the university recently conducted a study to figure \n",
    "out needs of students for computational resources. After interviewing 100 \n",
    "students they concluded that most of them were happy with 250 GB of cloud\n",
    "storage.\n",
    "\n",
    "Restructure the story above to extract these numbers:\n",
    "* Number of students asked:\n",
    "* Cloud storage size:"
   ]
  },
  {
   "cell_type": "markdown",
   "id": "23ea4506-dcf4-4747-9d20-ddef994c1ebc",
   "metadata": {},
   "source": [
    "## Browsing for information\n",
    "If you are working with an LLM that cannot search the internet, it may not be able to answer certain questions."
   ]
  },
  {
   "cell_type": "code",
   "execution_count": 3,
   "id": "d02f3047-b2d4-41ad-8275-eac8ac53f46c",
   "metadata": {},
   "outputs": [
    {
     "data": {
      "text/markdown": [
       "I'm unable to provide real-time weather updates. To find out if you'll need a jacket today, I recommend checking a reliable weather website or app like the Weather Channel or using a voice-activated assistant for the latest forecast in your area."
      ],
      "text/plain": [
       "<IPython.core.display.Markdown object>"
      ]
     },
     "metadata": {},
     "output_type": "display_data"
    }
   ],
   "source": [
    "How will be the wheather today? Will I need a jacket?"
   ]
  },
  {
   "cell_type": "code",
   "execution_count": 4,
   "id": "b6fc5028-a4b7-4ee4-b52b-757332775ee2",
   "metadata": {
    "scrolled": true
   },
   "outputs": [
    {
     "data": {
      "text/markdown": [
       "Today is October 28, 2023."
      ],
      "text/plain": [
       "<IPython.core.display.Markdown object>"
      ]
     },
     "metadata": {},
     "output_type": "display_data"
    }
   ],
   "source": [
    "Which day is today?"
   ]
  },
  {
   "cell_type": "markdown",
   "id": "14319932-be45-45e7-b191-32a8fd9c5b93",
   "metadata": {},
   "source": [
    "## Providing more information\n",
    "If you provide more information, the LLMs results will fit better to your expectation."
   ]
  },
  {
   "cell_type": "code",
   "execution_count": 5,
   "id": "63d62b2d-7482-4963-98bd-ddce6bc26541",
   "metadata": {},
   "outputs": [
    {
     "data": {
      "text/markdown": [
       "Given that today is August 16th, 2024, and you're in Central Europe with the sun shining, it's likely to be warm. However, whether you need a jacket depends on the specific temperature and your personal preference for warmth. Generally, August in Central Europe tends to be warm, so if the temperatures are typical for this time of year, you might not need a jacket during the day. It's always a good idea to check the current temperature and forecast for a more specific recommendation."
      ],
      "text/plain": [
       "<IPython.core.display.Markdown object>"
      ]
     },
     "metadata": {},
     "output_type": "display_data"
    }
   ],
   "source": [
    "Today is August 16th 2024. \n",
    "I'm in Central Europe and the sun is shining. \n",
    "Will I need a jacket today?"
   ]
  },
  {
   "cell_type": "markdown",
   "id": "e4da1504-4b6a-4a65-ace6-66ab0d2c1da9",
   "metadata": {},
   "source": [
    "## Counting\n",
    "Many contemporary LLMs have issues with counting objects."
   ]
  },
  {
   "cell_type": "code",
   "execution_count": 6,
   "id": "70367746-455d-4d0e-94b6-5e9133089b32",
   "metadata": {},
   "outputs": [
    {
     "data": {
      "text/markdown": [
       "The word \"Woolloomooloo\" contains eight 'o's."
      ],
      "text/plain": [
       "<IPython.core.display.Markdown object>"
      ]
     },
     "metadata": {},
     "output_type": "display_data"
    }
   ],
   "source": [
    "How many o are in Woolloomooloo ?"
   ]
  },
  {
   "cell_type": "markdown",
   "id": "bf90c256-557a-4f56-9e96-8a047d2adce0",
   "metadata": {},
   "source": [
    "## Other use-cases"
   ]
  },
  {
   "cell_type": "code",
   "execution_count": 7,
   "id": "8e4958e9-3268-4a7f-94fc-a92ee13500c1",
   "metadata": {},
   "outputs": [
    {
     "data": {
      "text/markdown": [
       "I have 5 apples, 6 oranges and 4 potatoes. How many fruits to I have"
      ],
      "text/plain": [
       "<IPython.core.display.Markdown object>"
      ]
     },
     "metadata": {},
     "output_type": "display_data"
    }
   ],
   "source": [
    "I have 5 apples, 6 oranges and 4 potatoes. How many fruits to I have?"
   ]
  },
  {
   "cell_type": "code",
   "execution_count": 8,
   "id": "9acdb73c-bc47-41e7-b8dd-82f4c882ce96",
   "metadata": {},
   "outputs": [
    {
     "data": {
      "text/markdown": [
       "If traveling from Aarhus to Copenhagen takes about 3.5 hours and from Aarhus to Odense takes 2 hours, then the remaining time from Odense to Copenhagen would be the difference between the two trips:\n",
       "\n",
       "3.5 hours (Aarhus to Copenhagen) - 2 hours (Aarhus to Odense) = 1.5 hours\n",
       "\n",
       "Therefore, it would take about 1.5 hours to travel from Copenhagen to Odense by car."
      ],
      "text/plain": [
       "<IPython.core.display.Markdown object>"
      ]
     },
     "metadata": {},
     "output_type": "display_data"
    }
   ],
   "source": [
    "Traveling from Aarhus to Copenhagen by care takes about 3.5 hours.\n",
    "From Aarhus to Odense it takes 2 hours.\n",
    "\n",
    "How long do I need from Copenhagen to Odense?"
   ]
  },
  {
   "cell_type": "markdown",
   "id": "7e98bbe0-ed42-41a9-8230-97fff380f78a",
   "metadata": {},
   "source": [
    "## Exercise\n",
    "Come up with two more examples: One where chatGPT works reproducibly, and one where it reproducibly answers wrong information or denies answering."
   ]
  },
  {
   "cell_type": "code",
   "execution_count": null,
   "id": "5827d332-7c95-4a38-8cec-717ac8d6d9b0",
   "metadata": {},
   "outputs": [],
   "source": []
  }
 ],
 "metadata": {
  "kernelspec": {
   "display_name": "LLM Kernel (gpt-4o-2024-08-06)",
   "language": "prompt",
   "name": "llm-kernel"
  },
  "language_info": {
   "codemirror_mode": {
    "name": "prompt"
   },
   "mimetype": "text/x-prompt",
   "name": "prompt"
  }
 },
 "nbformat": 4,
 "nbformat_minor": 5
}
