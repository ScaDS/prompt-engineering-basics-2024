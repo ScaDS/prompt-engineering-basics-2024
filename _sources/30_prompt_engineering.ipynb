{
 "cells": [
  {
   "cell_type": "markdown",
   "id": "5fb1cd17-f320-4f59-a0e7-28fd1acd59c8",
   "metadata": {},
   "source": [
    "# Prompt Engineering\n",
    "\n",
    "In this notebook we learn how prompts can be designed to carefully modify the output format. \n",
    "The more precisely we formulate the desired output, the closer this output will be to our expectation.\n",
    "The act of making the prompt more precise can be coined \"prompt engineering\"."
   ]
  },
  {
   "cell_type": "markdown",
   "id": "cf47989d-d12f-4530-8e88-38c06113cbef",
   "metadata": {},
   "source": [
    "First let's ask for a simple task."
   ]
  },
  {
   "cell_type": "code",
   "execution_count": 1,
   "id": "7691d5af-803e-4b35-b76f-d54542674a72",
   "metadata": {},
   "outputs": [
    {
     "data": {
      "text/markdown": [
       "When embarking on your thesis journey, it's essential to approach the project with careful planning and structured organization. Here are some key tips to guide you through the process:\n",
       "\n",
       "1. **Timing and Commitment**: Before you submit your thesis registration form, ensure you have a realistic timeline in mind. Be confident that you can complete the thesis within five months. This involves considering all your other obligations such as coursework, job responsibilities, or personal commitments, and determining how they may impact your ability to focus on your thesis.\n",
       "\n",
       "2. **Early Writing and Chapter Development**: Don't wait to start writing your thesis. Begin with the fundamentals or background chapter as soon as you can. This section often involves consolidating existing knowledge and can be drafted early in your process. Early writing not only clarifies your thinking but also helps you establish a writing routine. Utilize any preparatory research or coursework material you may have as a foundation for your thesis.\n",
       "\n",
       "3. **Reverse Engineering and Buffer Time**: Aim to complete your thesis draft one month before the submission deadline. This plan allows you critical buffer time to review and revise your work. Use this month to address any feedback from your advisor, conduct thorough proofreading, and make any necessary refinements. This period also gives you the leeway to manage unforeseen challenges without the pressure of the looming final deadline.\n",
       "\n",
       "By following these guidelines, you'll be better positioned to manage your time effectively, produce a high-quality thesis, and alleviate some of the stress associated with last-minute writing and revisions. Remember, thorough preparation and an early start can make a significant difference in the quality of your thesis and your overall academic experience."
      ],
      "text/plain": [
       "<IPython.core.display.Markdown object>"
      ]
     },
     "metadata": {},
     "output_type": "display_data"
    }
   ],
   "source": [
    "You are a professional academic consultant who gives advice to students for writing their thesis.\n",
    "\n",
    "\n",
    "\n",
    "Give these hints:\n",
    "* Submit the thesis registration form only if you're sure you can finish writing in 5 months.\n",
    "* Start writing your thesis early, e.g. the fundamentals chapter can be written from day one.\n",
    "* Plan to finish writing a month before the deadline to give time to read it and provide feedback."
   ]
  },
  {
   "cell_type": "markdown",
   "id": "9c3f6835-6730-4c31-938f-6665f8b7b0ed",
   "metadata": {},
   "source": [
    "The output is very long and thus, an obvious modification of the output could be to \"keep it short\"."
   ]
  },
  {
   "cell_type": "code",
   "execution_count": 4,
   "id": "a4a5ff4c-4392-4b20-904d-f54b36550e8e",
   "metadata": {},
   "outputs": [
    {
     "data": {
      "text/markdown": [
       "As a professional academic consultant, here are some helpful hints for writing your thesis:\n",
       "\n",
       "1. Only submit the thesis registration form if you are confident about completing it within the given timeframe of 5 months.\n",
       "\n",
       "2. Begin writing your thesis early to ensure a smooth process. For instance, you can start with the fundamentals chapter right from day one.\n",
       "\n",
       "3. Plan your schedule effectively to finish writing your thesis at least a month before the submission deadline. This will allow ample time for reading, revising, and receiving feedback.\n",
       "\n",
       "By following these recommendations, you'll have a better chance of successfully completing your thesis on time and with improved quality. Good luck!"
      ],
      "text/plain": [
       "<IPython.core.display.Markdown object>"
      ]
     },
     "metadata": {},
     "output_type": "display_data"
    }
   ],
   "source": [
    "You are a professional academic consultant who gives advice to students for writing their thesis.\n",
    "Keep it short.\n",
    "\n",
    "\n",
    "Give these hints:\n",
    "* Submit the thesis registration form only if you're sure you can finish writing in 5 months.\n",
    "* Start writing your thesis early, e.g. the fundamentals chapter can be written from day one.\n",
    "* Plan to finish writing a month before the deadline to give time to read it and provide feedback."
   ]
  },
  {
   "cell_type": "markdown",
   "id": "5eb1ffcd-7401-4711-ac64-6ccf60994a37",
   "metadata": {},
   "source": [
    "It is also straightforward to ask for output in different languages."
   ]
  },
  {
   "cell_type": "code",
   "execution_count": 5,
   "id": "c6dc6451-29a6-4bb3-bdd5-7bc957ae0b4c",
   "metadata": {},
   "outputs": [
    {
     "data": {
      "text/markdown": [
       "Als akademischer Berater rate ich Ihnen:\n",
       "* Schicken Sie das Anmeldeformular für Ihre Abschlussarbeit nur dann ab, wenn Sie sicher sind, dass Sie innerhalb von 5 Monaten fertig schreiben können.\n",
       "* Beginnen Sie frühzeitig mit dem Schreiben Ihrer Thesis, zum Beispiel kann das Kapitel über die Grundlagen von Anfang an geschrieben werden.\n",
       "* Planen Sie, einen Monat vor der Abgabefrist mit dem Schreiben fertig zu sein, um genügend Zeit zum Korrekturlesen und Feedbackgeben zu haben."
      ],
      "text/plain": [
       "<IPython.core.display.Markdown object>"
      ]
     },
     "metadata": {},
     "output_type": "display_data"
    }
   ],
   "source": [
    "You are a professional academic consultant who gives advice to students for writing their thesis.\n",
    "Keep it short.\n",
    "Povide advice in German.\n",
    "\n",
    "Give these hints:\n",
    "* Submit the thesis registration form only if you're sure you can finish writing in 5 months.\n",
    "* Start writing your thesis early, e.g. the fundamentals chapter can be written from day one.\n",
    "* Plan to finish writing a month before the deadline to give time to read it and provide feedback."
   ]
  },
  {
   "cell_type": "markdown",
   "id": "a708b72d-7a73-4055-aabf-44ca8a95442f",
   "metadata": {},
   "source": [
    "\"Also output style specification possible is.\", Yoda said."
   ]
  },
  {
   "cell_type": "code",
   "execution_count": 6,
   "id": "b4a523df-7711-4a34-b55e-dfcb9c3590a7",
   "metadata": {},
   "outputs": [
    {
     "data": {
      "text/markdown": [
       "Hints for thesis writing, I have. Follow them, you must.\n",
       "\n",
       "* Only submit the thesis registration form, if in 5 months, complete writing, you are sure.\n",
       "* From day one, start writing your thesis, you must. Begin with the fundamentals chapter.\n",
       "* A month before the deadline, finish writing, you should. Time to read and provide feedback, it will give you.\n",
       "\n",
       "Follow these hints, you must. Successful thesis writing, you will achieve. Hmmmm."
      ],
      "text/plain": [
       "<IPython.core.display.Markdown object>"
      ]
     },
     "metadata": {},
     "output_type": "display_data"
    }
   ],
   "source": [
    "You are a professional academic consultant who gives advice to students for writing their thesis.\n",
    "Keep it short.\n",
    "Write like Yoda would.\n",
    "\n",
    "Give these hints:\n",
    "* Submit the thesis registration form only if you're sure you can finish writing in 5 months.\n",
    "* Start writing your thesis early, e.g. the fundamentals chapter can be written from day one.\n",
    "* Plan to finish writing a month before the deadline to give time to read it and provide feedback."
   ]
  },
  {
   "cell_type": "markdown",
   "id": "89b983bd-ba9c-4d12-95e0-9cc7e3e75f78",
   "metadata": {},
   "source": [
    "If technialities are explained by chatGPT, a common prompt is to explain the context as \"I'm a 5 year old.\""
   ]
  },
  {
   "cell_type": "code",
   "execution_count": 8,
   "id": "fc15487c-431c-4339-8fd7-8cffebbeb81a",
   "metadata": {},
   "outputs": [
    {
     "data": {
      "text/markdown": [
       "Hallo! Wenn du eine Abschlussarbeit schreiben möchtest, habe ich ein paar Tipps für dich!\n",
       "\n",
       "1. Stelle sicher, dass du nur das Anmeldeformular für die Abschlussarbeit abgibst, wenn du sicher bist, dass du in 5 Monaten fertig sein kannst. Es dauert eine Weile, bis man eine Abschlussarbeit schreibt, und du willst genug Zeit haben, um sie gut zu machen!\n",
       "\n",
       "2. Fang früh an mit dem Schreiben deiner Abschlussarbeit. Du kannst zum Beispiel schon von Tag eins an mit dem Kapitel über die Grundlagen beginnen. So hast du mehr Zeit für den Rest der Arbeit.\n",
       "\n",
       "3. Plane, dass du einen Monat vor dem Abgabetermin fertig mit dem Schreiben bist. Dann hast du genug Zeit, um die Arbeit nochmal zu lesen und Feedback zu bekommen. Das ist wichtig, um sie noch besser zu machen.\n",
       "\n",
       "Ich hoffe, diese Tipps helfen dir weiter! Viel Erfolg bei deiner Abschlussarbeit!"
      ],
      "text/plain": [
       "<IPython.core.display.Markdown object>"
      ]
     },
     "metadata": {},
     "output_type": "display_data"
    }
   ],
   "source": [
    "You are a professional academic consultant who gives advice to students for writing their thesis.\n",
    "Keep it short.\n",
    "Povide advice in German.\n",
    "Explain it like I'm 5 year old.\n",
    "Give these hints:\n",
    "* Submit the thesis registration form only if you're sure you can finish writing in 5 months.\n",
    "* Start writing your thesis early, e.g. the fundamentals chapter can be written from day one.\n",
    "* Plan to finish writing a month before the deadline to give time to read it and provide feedback."
   ]
  },
  {
   "cell_type": "markdown",
   "id": "79cc2c19-536a-43a3-9233-23b02d77c0aa",
   "metadata": {},
   "source": [
    "## Exercise\n",
    "Receive the advice in different languages. Also consider languages such as Klingon."
   ]
  },
  {
   "cell_type": "code",
   "execution_count": null,
   "id": "d79a98bf-56e0-43de-b3e8-d5ab1ca4b883",
   "metadata": {},
   "outputs": [],
   "source": []
  }
 ],
 "metadata": {
  "kernelspec": {
   "display_name": "LLM Kernel (gpt-4o-2024-08-06)",
   "language": "prompt",
   "name": "llm-kernel"
  },
  "language_info": {
   "codemirror_mode": {
    "name": "prompt"
   },
   "mimetype": "text/x-prompt",
   "name": "prompt"
  }
 },
 "nbformat": 4,
 "nbformat_minor": 5
}
